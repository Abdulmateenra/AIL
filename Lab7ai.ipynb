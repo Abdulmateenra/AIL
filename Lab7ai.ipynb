{
  "nbformat": 4,
  "nbformat_minor": 0,
  "metadata": {
    "colab": {
      "provenance": [],
      "authorship_tag": "ABX9TyMo6D3JwLPbKyiSZiRYkCxA",
      "include_colab_link": true
    },
    "kernelspec": {
      "name": "python3",
      "display_name": "Python 3"
    },
    "language_info": {
      "name": "python"
    }
  },
  "cells": [
    {
      "cell_type": "markdown",
      "metadata": {
        "id": "view-in-github",
        "colab_type": "text"
      },
      "source": [
        "<a href=\"https://colab.research.google.com/github/Musaddiqua/Demo/blob/main/Lab7ai.ipynb\" target=\"_parent\"><img src=\"https://colab.research.google.com/assets/colab-badge.svg\" alt=\"Open In Colab\"/></a>"
      ]
    },
    {
      "cell_type": "code",
      "execution_count": null,
      "metadata": {
        "colab": {
          "base_uri": "https://localhost:8080/"
        },
        "id": "3M1sLc6B-NJX",
        "outputId": "8cdddb3b-9499-4608-dd2a-aa7d3262cbeb"
      },
      "outputs": [
        {
          "output_type": "stream",
          "name": "stdout",
          "text": [
            "Forward chaining:\n",
            "Goal not reached: You don't take the umbrella.\n"
          ]
        }
      ],
      "source": [
        "def forward_chaining(rules, facts, goal):\n",
        "    # Initialize the agenda with the given facts\n",
        "    agenda = [fact for fact in facts]\n",
        "    # Initialize the set of inferred facts\n",
        "    inferred = set()\n",
        "\n",
        "    while agenda:\n",
        "        # Get the current fact from the agenda\n",
        "        current_fact = agenda.pop(0)\n",
        "        # Add the current fact to the inferred set\n",
        "        inferred.add(current_fact)\n",
        "\n",
        "        # Check if the current fact matches the goal\n",
        "        if current_fact == goal:\n",
        "            return True\n",
        "\n",
        "        # Iterate over the rules\n",
        "        for rule in rules:\n",
        "            premise, consequence = rule\n",
        "\n",
        "            # Check if all premises are in the inferred set\n",
        "            if all(p in inferred for p in premise):\n",
        "                # If the consequence is not already inferred or in the agenda, add it to the agenda\n",
        "\n",
        "                    agenda.append(consequence)\n",
        "\n",
        "    return False\n",
        "\n",
        "# Rules and facts\n",
        "rules = [(((\"raining\",),),(\"umbrella\")), (((\"umbrella\",),),(\"take umbrella\"))]\n",
        "facts = [\"raining\"]\n",
        "goal = \"take umbrella\"\n",
        "\n",
        "# Run the forward chaining algorithm\n",
        "result = forward_chaining(rules, facts, goal)\n",
        "\n",
        "# Print the results\n",
        "print(\"Forward chaining:\")\n",
        "if result:\n",
        "    print(\"Goal reached: You take the umbrella.\")\n",
        "else:\n",
        "    print(\"Goal not reached: You don't take the umbrella.\")"
      ]
    }
  ]
}