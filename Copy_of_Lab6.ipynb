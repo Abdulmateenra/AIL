{
  "nbformat": 4,
  "nbformat_minor": 0,
  "metadata": {
    "colab": {
      "provenance": [],
      "authorship_tag": "ABX9TyNDikZzi1MV7Mt/Y3kN12I5",
      "include_colab_link": true
    },
    "kernelspec": {
      "name": "python3",
      "display_name": "Python 3"
    },
    "language_info": {
      "name": "python"
    }
  },
  "cells": [
    {
      "cell_type": "markdown",
      "metadata": {
        "id": "view-in-github",
        "colab_type": "text"
      },
      "source": [
        "<a href=\"https://colab.research.google.com/github/Musaddiqua/Demo/blob/main/Copy_of_Lab6.ipynb\" target=\"_parent\"><img src=\"https://colab.research.google.com/assets/colab-badge.svg\" alt=\"Open In Colab\"/></a>"
      ]
    },
    {
      "cell_type": "code",
      "execution_count": null,
      "metadata": {
        "colab": {
          "base_uri": "https://localhost:8080/"
        },
        "id": "TipNl0pq_EjX",
        "outputId": "86018d7a-f4a5-41b3-d65a-e65b27f2227d"
      },
      "outputs": [
        {
          "output_type": "stream",
          "name": "stdout",
          "text": [
            "Approximate TSP solution using nearest neighbor:\n",
            "Visit city 0\n",
            "Visit city 1\n",
            "Visit city 2\n",
            "Visit city 3\n",
            "Visit city 4\n",
            "Total distance: 16.816740946526078\n"
          ]
        }
      ],
      "source": [
        "import math\n",
        "\n",
        "# Function to calculate Euclidean distance between two cities\n",
        "def euclidean_distance(city1, city2):\n",
        "    return math.sqrt((city1[0] - city2[0]) ** 2 + (city1[1] - city2[1]) ** 2)\n",
        "\n",
        "# Nearest neighbor algorithm to approximate TSP solution\n",
        "def nearest_neighbor(cities):\n",
        "    visited = [False] * len(cities)\n",
        "    path = [0]  # start from city 0\n",
        "    visited[0] = True\n",
        "\n",
        "    for _ in range(len(cities) - 1):\n",
        "        current_city = path[-1]\n",
        "        min_distance = float('inf')\n",
        "        nearest_city = None\n",
        "\n",
        "        for i, city in enumerate(cities):\n",
        "            if not visited[i]:\n",
        "                distance = euclidean_distance(cities[current_city], city)\n",
        "                if distance < min_distance:\n",
        "                    min_distance = distance\n",
        "                    nearest_city = i\n",
        "\n",
        "        path.append(nearest_city)\n",
        "        visited[nearest_city] = True\n",
        "\n",
        "    return path\n",
        "\n",
        "# Example usage\n",
        "cities = [(0, 0), (1, 2), (3, 1), (5, 3), (7, 2)]  # Example city coordinates\n",
        "path = nearest_neighbor(cities)\n",
        "\n",
        "print(\"Approximate TSP solution using nearest neighbor:\")\n",
        "total_distance = 0\n",
        "for i in range(len(path)):\n",
        "    print(f\"Visit city {path[i]}\")\n",
        "    if i < len(path) - 1:\n",
        "        total_distance += euclidean_distance(cities[path[i]], cities[path[i+1]])\n",
        "\n",
        "# To complete the tour, return to the starting city\n",
        "total_distance += euclidean_distance(cities[path[-1]], cities[path[0]])\n",
        "print(f\"Total distance: {total_distance}\")"
      ]
    }
  ]
}