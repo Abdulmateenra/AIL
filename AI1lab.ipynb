{
  "nbformat": 4,
  "nbformat_minor": 0,
  "metadata": {
    "colab": {
      "provenance": [],
      "authorship_tag": "ABX9TyOgduE5oCm7ARqBK6gwbpqq",
      "include_colab_link": true
    },
    "kernelspec": {
      "name": "python3",
      "display_name": "Python 3"
    },
    "language_info": {
      "name": "python"
    }
  },
  "cells": [
    {
      "cell_type": "markdown",
      "metadata": {
        "id": "view-in-github",
        "colab_type": "text"
      },
      "source": [
        "<a href=\"https://colab.research.google.com/github/Musaddiqua/Demo/blob/main/AI1lab.ipynb\" target=\"_parent\"><img src=\"https://colab.research.google.com/assets/colab-badge.svg\" alt=\"Open In Colab\"/></a>"
      ]
    },
    {
      "cell_type": "code",
      "execution_count": null,
      "metadata": {
        "colab": {
          "base_uri": "https://localhost:8080/"
        },
        "id": "BOCIGmAEA2f2",
        "outputId": "6a9146ee-aca4-4622-f01e-5153582837d5"
      },
      "outputs": [
        {
          "output_type": "stream",
          "name": "stdout",
          "text": [
            "Solution found:\n",
            "(0, 0)\n",
            "(3, 0)\n",
            "(3, 4)\n",
            "(0, 4)\n",
            "(3, 1)\n",
            "(0, 1)\n",
            "(1, 0)\n",
            "(1, 4)\n",
            "(3, 2)\n",
            "(0, 2)\n",
            "(2, 0)\n",
            "(2, 4)\n"
          ]
        }
      ],
      "source": [
        "class State:\n",
        "    def __init__(self, jug1, jug2):\n",
        "        self.jug1 = jug1\n",
        "        self.jug2 = jug2\n",
        "\n",
        "    def __eq__(self, other):\n",
        "        return self.jug1 == other.jug1 and self.jug2 == other.jug2\n",
        "\n",
        "    def __hash__(self):\n",
        "        return hash((self.jug1, self.jug2))\n",
        "\n",
        "    def __str__(self):\n",
        "        return f\"({self.jug1}, {self.jug2})\"\n",
        "\n",
        "class WaterJugProblem:\n",
        "    def __init__(self, jug1_capacity, jug2_capacity, target):\n",
        "        self.jug1_capacity = jug1_capacity\n",
        "        self.jug2_capacity = jug2_capacity\n",
        "        self.target = target\n",
        "\n",
        "    def get_successors(self, state):\n",
        "        successors = []\n",
        "        # Fill jug1\n",
        "        successors.append(State(self.jug1_capacity, state.jug2))\n",
        "        # Fill jug2\n",
        "        successors.append(State(state.jug1, self.jug2_capacity))\n",
        "        # Empty jug1\n",
        "        successors.append(State(0, state.jug2))\n",
        "        # Empty jug2\n",
        "        successors.append(State(state.jug1, 0))\n",
        "        # Pour from jug1 to jug2\n",
        "        pour_amount = min(state.jug1, self.jug2_capacity - state.jug2)\n",
        "        successors.append(State(state.jug1 - pour_amount, state.jug2 + pour_amount))\n",
        "        # Pour from jug2 to jug1\n",
        "        pour_amount = min(state.jug2, self.jug1_capacity - state.jug1)\n",
        "        successors.append(State(state.jug1 + pour_amount, state.jug2 - pour_amount))\n",
        "        return successors\n",
        "\n",
        "    def dfs(self, start, goal, visited=None):\n",
        "        if visited is None:\n",
        "            visited = set()\n",
        "        if start == goal:\n",
        "            return [start]\n",
        "        visited.add(start)\n",
        "        for next_state in self.get_successors(start):\n",
        "            if next_state not in visited:\n",
        "                path = self.dfs(next_state, goal, visited)\n",
        "                if path:\n",
        "                    return [start] + path\n",
        "        return None\n",
        "\n",
        "# Define the capacities and target state\n",
        "jug1_capacity = 3\n",
        "jug2_capacity = 4\n",
        "target_state = State(2, 4)\n",
        "\n",
        "# Create the water jug problem instance\n",
        "problem = WaterJugProblem(jug1_capacity, jug2_capacity, target_state)\n",
        "\n",
        "# Define the initial state\n",
        "initial_state = State(0, 0)\n",
        "\n",
        "# Solve the problem using DFS\n",
        "solution = problem.dfs(initial_state, target_state)\n",
        "\n",
        "# Print the solution if found\n",
        "if solution:\n",
        "    print(\"Solution found:\")\n",
        "    for state in solution:\n",
        "        print(state)\n",
        "else:\n",
        "    print(\"No solution found\")"
      ]
    }
  ]
}