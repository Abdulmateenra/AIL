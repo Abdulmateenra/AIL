{
  "nbformat": 4,
  "nbformat_minor": 0,
  "metadata": {
    "colab": {
      "provenance": [],
      "authorship_tag": "ABX9TyP3kXsWg0rIZHYpFXIZnBBt",
      "include_colab_link": true
    },
    "kernelspec": {
      "name": "python3",
      "display_name": "Python 3"
    },
    "language_info": {
      "name": "python"
    }
  },
  "cells": [
    {
      "cell_type": "markdown",
      "metadata": {
        "id": "view-in-github",
        "colab_type": "text"
      },
      "source": [
        "<a href=\"https://colab.research.google.com/github/Musaddiqua/Demo/blob/main/A_.ipynb\" target=\"_parent\"><img src=\"https://colab.research.google.com/assets/colab-badge.svg\" alt=\"Open In Colab\"/></a>"
      ]
    },
    {
      "cell_type": "code",
      "execution_count": null,
      "metadata": {
        "colab": {
          "base_uri": "https://localhost:8080/"
        },
        "id": "Hv2xgqexlHRU",
        "outputId": "c9f8606a-8967-4c5c-a565-184f42bada1a"
      },
      "outputs": [
        {
          "output_type": "stream",
          "name": "stdout",
          "text": [
            "Path found: [(0, 0), (1, 0), (2, 0), (2, 1), (2, 2), (3, 2), (3, 3), (3, 4), (4, 4)]\n"
          ]
        }
      ],
      "source": [
        "\n",
        "import heapq\n",
        "\n",
        "class Node:\n",
        "    def __init__(self, position, parent=None):\n",
        "        self.position = position\n",
        "        self.parent = parent\n",
        "        self.g = 0 # Distance from start node\n",
        "        self.h = 0 # Heuristic to goal\n",
        "        self.f = 0 # Total cost\n",
        "\n",
        "    def __lt__(self, other):\n",
        "        return self.f < other.f\n",
        "\n",
        "def heuristic(current, goal):\n",
        "    # Using Manhattan distance as heuristic\n",
        "    return abs(current[0] - goal[0]) + abs(current[1] - goal[1])\n",
        "\n",
        "def a_star_search(start, goal, grid):\n",
        "    open_list = []\n",
        "    closed_list = set()\n",
        "\n",
        "    start_node = Node(start)\n",
        "    goal_node = Node(goal)\n",
        "\n",
        "    heapq.heappush(open_list, start_node)\n",
        "\n",
        "    while open_list:\n",
        "        current_node = heapq.heappop(open_list)\n",
        "        closed_list.add(current_node.position)\n",
        "\n",
        "        if current_node.position == goal_node.position:\n",
        "            return reconstruct_path(current_node)\n",
        "\n",
        "        neighbors = get_neighbors(current_node.position, grid)\n",
        "\n",
        "        for next_position in neighbors:\n",
        "            if next_position in closed_list:\n",
        "                continue\n",
        "\n",
        "            neighbor_node = Node(next_position, current_node)\n",
        "\n",
        "            neighbor_node.g = current_node.g + 1\n",
        "            neighbor_node.h = heuristic(neighbor_node.position, goal_node.position)\n",
        "            neighbor_node.f = neighbor_node.g + neighbor_node.h\n",
        "\n",
        "            if add_to_open_list(open_list, neighbor_node):\n",
        "                heapq.heappush(open_list, neighbor_node)\n",
        "\n",
        "    return None\n",
        "\n",
        "def get_neighbors(position, grid):\n",
        "    neighbors = []\n",
        "    x, y = position\n",
        "    for new_position in [(0, -1), (0, 1), (-1, 0), (1, 0)]:\n",
        "        node_position = (x + new_position[0], y + new_position[1])\n",
        "        if 0 <= node_position[0] < len(grid) and 0 <= node_position[1] < len(grid[0]):\n",
        "            if grid[node_position[0]][node_position[1]] == 0: # 0 represents walkable path\n",
        "                neighbors.append(node_position)\n",
        "    return neighbors\n",
        "\n",
        "def add_to_open_list(open_list, neighbor):\n",
        "    for node in open_list:\n",
        "        if neighbor.position == node.position and neighbor.g >= node.g:\n",
        "            return False\n",
        "    return True\n",
        "\n",
        "def reconstruct_path(current_node):\n",
        "    path = []\n",
        "    while current_node:\n",
        "        path.append(current_node.position)\n",
        "        current_node = current_node.parent\n",
        "    return path[::-1]\n",
        "\n",
        "# Example usage:\n",
        "grid = [\n",
        "    [0, 1, 0, 0, 0],\n",
        "    [0, 1, 0, 1, 0],\n",
        "    [0, 0, 0, 1, 0],\n",
        "    [0, 1, 0, 0, 0],\n",
        "    [0, 0, 0, 1, 0]\n",
        "]\n",
        "\n",
        "start = (0, 0)\n",
        "goal = (4, 4)\n",
        "\n",
        "path = a_star_search(start, goal, grid)\n",
        "print(\"Path found:\", path)"
      ]
    },
    {
      "cell_type": "code",
      "source": [],
      "metadata": {
        "id": "vMaXfwkrl3AV"
      },
      "execution_count": null,
      "outputs": []
    }
  ]
}