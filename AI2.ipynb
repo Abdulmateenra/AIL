{
  "nbformat": 4,
  "nbformat_minor": 0,
  "metadata": {
    "colab": {
      "provenance": [],
      "authorship_tag": "ABX9TyM0sLgayeXwTfYHLAaaQOlk",
      "include_colab_link": true
    },
    "kernelspec": {
      "name": "python3",
      "display_name": "Python 3"
    },
    "language_info": {
      "name": "python"
    }
  },
  "cells": [
    {
      "cell_type": "markdown",
      "metadata": {
        "id": "view-in-github",
        "colab_type": "text"
      },
      "source": [
        "<a href=\"https://colab.research.google.com/github/Musaddiqua/Demo/blob/main/AI2.ipynb\" target=\"_parent\"><img src=\"https://colab.research.google.com/assets/colab-badge.svg\" alt=\"Open In Colab\"/></a>"
      ]
    },
    {
      "cell_type": "code",
      "execution_count": null,
      "metadata": {
        "colab": {
          "base_uri": "https://localhost:8080/"
        },
        "id": "izbZpvGMxFsZ",
        "outputId": "245194ac-cfce-4d8a-af10-43f810bf0b3e"
      },
      "outputs": [
        {
          "output_type": "stream",
          "name": "stdout",
          "text": [
            "{(0, 2, 1), (3, 3, 1), (1, 1, 0), (0, 3, 1), (0, 1, 0), (3, 0, 0), (0, 2, 0), (0, 0, 0), (3, 1, 0), (3, 2, 1), (2, 2, 1), (1, 1, 1), (2, 2, 0), (3, 1, 1), (3, 2, 0)}\n"
          ]
        }
      ],
      "source": [
        "def is_valid(state):\n",
        "    m, c = state[0], state[1]\n",
        "    # Check if the state is within valid bounds\n",
        "    if m < 0 or m > 3 or c < 0 or c > 3:\n",
        "        return False\n",
        "    # Check if missionaries are not outnumbered by cannibals on either side\n",
        "    if (m > 0 and m < c) or (m < 3 and 3 - m < 3 - c):\n",
        "        return False\n",
        "    return True\n",
        "\n",
        "def successors(state):\n",
        "    m, c, b = state\n",
        "    moves = []\n",
        "    if b == 1:  # Boat on the starting side\n",
        "        for i in range(4):\n",
        "            for j in range(4 - i):\n",
        "                if 0 < i + j <= 2:\n",
        "                    new_state = (m - i, c - j, 0)\n",
        "                    if is_valid(new_state):\n",
        "                        moves.append(new_state)\n",
        "    else:  # Boat on the opposite side\n",
        "        for i in range(4):\n",
        "            for j in range(4 - i):\n",
        "                if 0 < i + j <= 2:\n",
        "                    new_state = (m + i, c + j, 1)\n",
        "                    if is_valid(new_state):\n",
        "                        moves.append(new_state)\n",
        "    return moves\n",
        "\n",
        "def best_first_search(start_state, goal_state):\n",
        "    frontier = [start_state]\n",
        "    explored = set()\n",
        "\n",
        "    while frontier:\n",
        "        current_state = frontier.pop(0)\n",
        "        explored.add(current_state)\n",
        "\n",
        "        if current_state == goal_state:\n",
        "            return explored\n",
        "\n",
        "        for successor in successors(current_state):\n",
        "            if successor not in explored and successor not in frontier:\n",
        "                frontier.append(successor)\n",
        "\n",
        "        # Heuristic: prioritize states with fewer missionaries and cannibals on the starting side\n",
        "        frontier.sort(key=lambda x: (x[0], x[1]), reverse=True)\n",
        "\n",
        "    return explored\n",
        "\n",
        "# Example usage:\n",
        "start_state = (3, 3, 1)  # 3 missionaries, 3 cannibals, boat on the starting side\n",
        "goal_state = (0, 0, 0)  # 0 missionaries, 0 cannibals, boat on the other side\n",
        "\n",
        "explored_states = best_first_search(start_state, goal_state)\n",
        "print(explored_states)"
      ]
    }
  ]
}